{
  "nbformat": 4,
  "nbformat_minor": 0,
  "metadata": {
    "colab": {
      "provenance": [],
      "authorship_tag": "ABX9TyN/q3a9sNY8Rn68K9cJv2Dx",
      "include_colab_link": true
    },
    "kernelspec": {
      "name": "python3",
      "display_name": "Python 3"
    },
    "language_info": {
      "name": "python"
    }
  },
  "cells": [
    {
      "cell_type": "markdown",
      "metadata": {
        "id": "view-in-github",
        "colab_type": "text"
      },
      "source": [
        "<a href=\"https://colab.research.google.com/github/AdityaRaj23/MeloGen/blob/main/MeloGen(updated).ipynb\" target=\"_parent\"><img src=\"https://colab.research.google.com/assets/colab-badge.svg\" alt=\"Open In Colab\"/></a>"
      ]
    },
    {
      "cell_type": "markdown",
      "source": [
        "# Instructions:\n",
        "\n",
        "\n",
        "\n",
        "1.   upload .krn file in your_music(some starting sounds)\n",
        "2.   Run the Cells below\n",
        "3.   **mel.mid** File will be created its the generated melody in midi format\n",
        "\n",
        "\n",
        "\n"
      ],
      "metadata": {
        "id": "-PLvNjFa_iPG"
      }
    },
    {
      "cell_type": "code",
      "source": [
        "!pip install music21"
      ],
      "metadata": {
        "colab": {
          "base_uri": "https://localhost:8080/"
        },
        "id": "FZzDVLxUMseI",
        "outputId": "571256fb-fa0d-4cd2-afcb-3447cd9173a5"
      },
      "execution_count": 2,
      "outputs": [
        {
          "output_type": "stream",
          "name": "stdout",
          "text": [
            "Requirement already satisfied: music21 in /usr/local/lib/python3.10/dist-packages (9.1.0)\n",
            "Requirement already satisfied: chardet in /usr/local/lib/python3.10/dist-packages (from music21) (5.2.0)\n",
            "Requirement already satisfied: joblib in /usr/local/lib/python3.10/dist-packages (from music21) (1.3.2)\n",
            "Requirement already satisfied: jsonpickle in /usr/local/lib/python3.10/dist-packages (from music21) (3.0.2)\n",
            "Requirement already satisfied: matplotlib in /usr/local/lib/python3.10/dist-packages (from music21) (3.7.1)\n",
            "Requirement already satisfied: more-itertools in /usr/local/lib/python3.10/dist-packages (from music21) (10.1.0)\n",
            "Requirement already satisfied: numpy in /usr/local/lib/python3.10/dist-packages (from music21) (1.25.2)\n",
            "Requirement already satisfied: requests in /usr/local/lib/python3.10/dist-packages (from music21) (2.31.0)\n",
            "Requirement already satisfied: webcolors>=1.5 in /usr/local/lib/python3.10/dist-packages (from music21) (1.13)\n",
            "Requirement already satisfied: contourpy>=1.0.1 in /usr/local/lib/python3.10/dist-packages (from matplotlib->music21) (1.2.0)\n",
            "Requirement already satisfied: cycler>=0.10 in /usr/local/lib/python3.10/dist-packages (from matplotlib->music21) (0.12.1)\n",
            "Requirement already satisfied: fonttools>=4.22.0 in /usr/local/lib/python3.10/dist-packages (from matplotlib->music21) (4.48.1)\n",
            "Requirement already satisfied: kiwisolver>=1.0.1 in /usr/local/lib/python3.10/dist-packages (from matplotlib->music21) (1.4.5)\n",
            "Requirement already satisfied: packaging>=20.0 in /usr/local/lib/python3.10/dist-packages (from matplotlib->music21) (23.2)\n",
            "Requirement already satisfied: pillow>=6.2.0 in /usr/local/lib/python3.10/dist-packages (from matplotlib->music21) (9.4.0)\n",
            "Requirement already satisfied: pyparsing>=2.3.1 in /usr/local/lib/python3.10/dist-packages (from matplotlib->music21) (3.1.1)\n",
            "Requirement already satisfied: python-dateutil>=2.7 in /usr/local/lib/python3.10/dist-packages (from matplotlib->music21) (2.8.2)\n",
            "Requirement already satisfied: charset-normalizer<4,>=2 in /usr/local/lib/python3.10/dist-packages (from requests->music21) (3.3.2)\n",
            "Requirement already satisfied: idna<4,>=2.5 in /usr/local/lib/python3.10/dist-packages (from requests->music21) (3.6)\n",
            "Requirement already satisfied: urllib3<3,>=1.21.1 in /usr/local/lib/python3.10/dist-packages (from requests->music21) (2.0.7)\n",
            "Requirement already satisfied: certifi>=2017.4.17 in /usr/local/lib/python3.10/dist-packages (from requests->music21) (2024.2.2)\n",
            "Requirement already satisfied: six>=1.5 in /usr/local/lib/python3.10/dist-packages (from python-dateutil>=2.7->matplotlib->music21) (1.16.0)\n"
          ]
        }
      ]
    },
    {
      "cell_type": "code",
      "source": [
        "import os\n",
        "import music21 as m21\n",
        "import json\n",
        "import tensorflow.keras as keras\n",
        "import numpy as np"
      ],
      "metadata": {
        "id": "eLFL6m_IM-YN"
      },
      "execution_count": 4,
      "outputs": []
    },
    {
      "cell_type": "code",
      "source": [
        "KERN_DATASET_PATH = \"/content/your_music\"\n",
        "ACCEPTABLE_DURATIONS = [\n",
        "    0.25,\n",
        "    0.5,\n",
        "    0.75,\n",
        "    1.0,\n",
        "    1.5,\n",
        "    2,\n",
        "    3,\n",
        "    4\n",
        "\n",
        "]\n",
        "SAVE_DIR = \"/content/dataset\"\n",
        "SINGLE_FILE_DATASET = \"file_dataset\"\n",
        "SEQUENCE_LENGTH = 64\n",
        "MAPPING_PATH = \"mapping.json\""
      ],
      "metadata": {
        "id": "olKHuWLACJeb"
      },
      "execution_count": 5,
      "outputs": []
    },
    {
      "cell_type": "code",
      "source": [
        "def load_songs_in_kern(dataset_path):\n",
        "  #go through all the files in dataset and load them with music21\n",
        "  songs = []\n",
        "  for path, subdirs, files in os.walk(dataset_path):\n",
        "    for file in files:\n",
        "      if file[-3:] == \"krn\":\n",
        "        song = m21.converter.parse(os.path.join(path,file))\n",
        "        songs.append(song)\n",
        "  return songs\n"
      ],
      "metadata": {
        "id": "JdzCUP9lTf2B"
      },
      "execution_count": 6,
      "outputs": []
    },
    {
      "cell_type": "code",
      "source": [
        "def has_acceptable_duration(song,acceptable_durations):\n",
        "  for note in song.flat.notesAndRests:\n",
        "    if note.duration.quarterLength not in acceptable_durations:\n",
        "      return False\n",
        "\n",
        "  return True"
      ],
      "metadata": {
        "id": "ipWWavrtToqR"
      },
      "execution_count": 7,
      "outputs": []
    },
    {
      "cell_type": "code",
      "source": [
        "def transpose(song):\n",
        "  #get key from the song\n",
        "  parts = song.getElementsByClass(m21.stream.Part)\n",
        "  measures_part0 = parts[0].getElementsByClass(m21.stream.Measure)\n",
        "  key = measures_part0[0][4]\n",
        "  #estimate key using music21\n",
        "  if not isinstance(key,m21.key.Key):\n",
        "    key = song.analyze(\"key\")\n",
        "  #get interval for transposition E.g. Bmaj -> cmaj\n",
        "  if key.mode == \"major\":\n",
        "    interval = m21.interval.Interval(key.tonic , m21.pitch.Pitch(\"C\"))\n",
        "  elif key.mode == \"minor\":\n",
        "    interval = m21.interval.Interval(key.tonic , m21.pitch.Pitch(\"A\"))\n",
        "  #transpose song by calculated interval\n",
        "  transposed_song = song.transpose(interval)\n",
        "  return transposed_song"
      ],
      "metadata": {
        "id": "xKLrbDXFWziU"
      },
      "execution_count": 8,
      "outputs": []
    },
    {
      "cell_type": "code",
      "source": [
        "def encode_song(song, time_step=0.25):\n",
        "  \"\"\"Converts a score into a time-series-like music representation. Each item in the encoded list represents 'min_duration'\n",
        "  quarter lengths. The symbols used at each step are: integers for MIDI notes, 'r' for representing a rest, and '_'\n",
        "  for representing notes/rests that are carried over into a new time step. Here's a sample encoding:\n",
        "\n",
        "      [\"r\", \"_\", \"60\", \"_\", \"_\", \"_\", \"72\" \"_\"]\n",
        "\n",
        "  :param song (m21 stream): Piece to encode\n",
        "  :param time_step (float): Duration of each time step in quarter length\n",
        "  :return:\n",
        "  \"\"\"\n",
        "\n",
        "  encoded_song = []\n",
        "\n",
        "  for event in song.flat.notesAndRests:\n",
        "\n",
        "    # handle notes\n",
        "    if isinstance(event, m21.note.Note):\n",
        "        symbol = event.pitch.midi # 60\n",
        "    # handle rests\n",
        "    elif isinstance(event, m21.note.Rest):\n",
        "        symbol = \"r\"\n",
        "\n",
        "    # convert the note/rest into time series notation\n",
        "    steps = int(event.duration.quarterLength / time_step)\n",
        "    for step in range(steps):\n",
        "\n",
        "      # if it's the first time we see a note/rest, let's encode it. Otherwise, it means we're carrying the same\n",
        "      # symbol in a new time step\n",
        "      if step == 0:\n",
        "          encoded_song.append(symbol)\n",
        "      else:\n",
        "          encoded_song.append(\"_\")\n",
        "\n",
        "  # cast encoded song to str\n",
        "  encoded_song = \" \".join(map(str, encoded_song))\n",
        "\n",
        "  return encoded_song"
      ],
      "metadata": {
        "id": "1_BVScEETvGz"
      },
      "execution_count": 9,
      "outputs": []
    },
    {
      "cell_type": "code",
      "source": [
        "def preprocess(dataset_path):\n",
        "\n",
        "  #load the folk song\n",
        "  print(\"Loading Songs...\")\n",
        "  songs = load_songs_in_kern(dataset_path)\n",
        "  print(f\"loaded{len(songs)} songs.\")\n",
        "\n",
        "  for i, song in enumerate(songs):\n",
        "    #filter out songs that have non-acceptable durations\n",
        "    if not has_acceptable_duration(song,ACCEPTABLE_DURATIONS):\n",
        "      continue\n",
        "    #transpose songs to Cmaj/Amin\n",
        "    song = transpose(song)\n",
        "    #encode songs with music time series representation\n",
        "    encoded_song = encode_song(song)\n",
        "    # save songs to text file\n",
        "    save_path = os.path.join(SAVE_DIR,str(i))\n",
        "    with open(save_path,\"w\") as fp:\n",
        "      fp.write(encoded_song)"
      ],
      "metadata": {
        "id": "dcQw_mnpTv5-"
      },
      "execution_count": 10,
      "outputs": []
    },
    {
      "cell_type": "code",
      "source": [
        "def load(file_path):\n",
        "  with open(file_path,\"r\") as fp:\n",
        "    song = fp.read()\n",
        "\n",
        "  return song"
      ],
      "metadata": {
        "id": "BVQGu58FQa2O"
      },
      "execution_count": 11,
      "outputs": []
    },
    {
      "cell_type": "code",
      "source": [
        "def create_single_file_dataset(dataset_path,file_dataset_path,sequence_length):\n",
        "  new_song_delimiter = \"/ \" * sequence_length\n",
        "  songs = \"\"\n",
        "  #load encoded songs and add delimeters\n",
        "  for path, _, files in os.walk(dataset_path):\n",
        "    for file in files:\n",
        "      file_path = os.path.join(path,file)\n",
        "      song = load(file_path)\n",
        "      songs = songs + song + \" \" + new_song_delimiter\n",
        "\n",
        "  songs = songs[:-1]\n",
        "\n",
        "  #save string that contains all the dataset\n",
        "\n",
        "  with open(file_dataset_path ,\"w\") as fp:\n",
        "    fp.write(songs)\n",
        "\n",
        "  return songs\n"
      ],
      "metadata": {
        "id": "t-FC173bUIo_"
      },
      "execution_count": 12,
      "outputs": []
    },
    {
      "cell_type": "code",
      "source": [
        "def convert_songs_to_int(songs):\n",
        "  int_songs = []\n",
        "\n",
        "  # load mappings\n",
        "  with open(MAPPING_PATH,\"r\") as fp:\n",
        "    mappings = json.load(fp)\n",
        "\n",
        "  #cast songs string to a list\n",
        "  songs = songs.split()\n",
        "\n",
        "  #map songs to int\n",
        "  for symbol in songs:\n",
        "    int_songs.append(mappings[symbol])\n",
        "\n",
        "  return int_songs\n"
      ],
      "metadata": {
        "id": "OdIhXffKOL5m"
      },
      "execution_count": 13,
      "outputs": []
    },
    {
      "cell_type": "code",
      "execution_count": 14,
      "metadata": {
        "id": "Jw699jA2SVr5"
      },
      "outputs": [],
      "source": [
        "class MelodyGenerator:\n",
        "    \"\"\"A class that wraps the LSTM model and offers utilities to generate melodies.\"\"\"\n",
        "\n",
        "    def __init__(self, model_path=\"/content/melody.h5\"):\n",
        "        \"\"\"Constructor that initialises TensorFlow model\"\"\"\n",
        "\n",
        "        self.model_path = model_path\n",
        "        self.model = keras.models.load_model(model_path)\n",
        "\n",
        "        with open(MAPPING_PATH, \"r\") as fp:\n",
        "            self._mappings = json.load(fp)\n",
        "\n",
        "        self._start_symbols = [\"/\"] * SEQUENCE_LENGTH\n",
        "\n",
        "\n",
        "    def generate_melody(self, seed, num_steps, max_sequence_length, temperature):\n",
        "        \"\"\"Generates a melody using the DL model and returns a midi file.\n",
        "\n",
        "        :param seed (str): Melody seed with the notation used to encode the dataset\n",
        "        :param num_steps (int): Number of steps to be generated\n",
        "        :param max_sequence_len (int): Max number of steps in seed to be considered for generation\n",
        "        :param temperature (float): Float in interval [0, 1]. Numbers closer to 0 make the model more deterministic.\n",
        "            A number closer to 1 makes the generation more unpredictable.\n",
        "\n",
        "        :return melody (list of str): List with symbols representing a melody\n",
        "        \"\"\"\n",
        "\n",
        "        # create seed with start symbols\n",
        "        seed = seed.split()\n",
        "        melody = seed\n",
        "        seed = self._start_symbols + seed\n",
        "\n",
        "        # map seed to int\n",
        "        seed = [self._mappings[symbol] for symbol in seed]\n",
        "\n",
        "        for _ in range(num_steps):\n",
        "\n",
        "            # limit the seed to max_sequence_length\n",
        "            seed = seed[-max_sequence_length:]\n",
        "\n",
        "            # one-hot encode the seed\n",
        "            onehot_seed = keras.utils.to_categorical(seed, num_classes=len(self._mappings))\n",
        "            # (1, max_sequence_length, num of symbols in the vocabulary)\n",
        "            onehot_seed = onehot_seed[np.newaxis, ...]\n",
        "\n",
        "            # make a prediction\n",
        "            probabilities = self.model.predict(onehot_seed)[0]\n",
        "            # [0.1, 0.2, 0.1, 0.6] -> 1\n",
        "            output_int = self._sample_with_temperature(probabilities, temperature)\n",
        "\n",
        "            # update seed\n",
        "            seed.append(output_int)\n",
        "\n",
        "            # map int to our encoding\n",
        "            output_symbol = [k for k, v in self._mappings.items() if v == output_int][0]\n",
        "\n",
        "            # check whether we're at the end of a melody\n",
        "            if output_symbol == \"/\":\n",
        "                break\n",
        "\n",
        "            # update melody\n",
        "            melody.append(output_symbol)\n",
        "\n",
        "        return melody\n",
        "\n",
        "\n",
        "    def _sample_with_temperature(self, probabilites, temperature):\n",
        "        \"\"\"Samples an index from a probability array reapplying softmax using temperature\n",
        "\n",
        "        :param predictions (nd.array): Array containing probabilities for each of the possible outputs.\n",
        "        :param temperature (float): Float in interval [0, 1]. Numbers closer to 0 make the model more deterministic.\n",
        "            A number closer to 1 makes the generation more unpredictable.\n",
        "\n",
        "        :return index (int): Selected output symbol\n",
        "        \"\"\"\n",
        "        predictions = np.log(probabilites) / temperature\n",
        "        probabilites = np.exp(predictions) / np.sum(np.exp(predictions))\n",
        "\n",
        "        choices = range(len(probabilites)) # [0, 1, 2, 3]\n",
        "        index = np.random.choice(choices, p=probabilites)\n",
        "\n",
        "        return index\n",
        "\n",
        "\n",
        "    def save_melody(self, melody, step_duration=0.25, format=\"midi\", file_name=\"mel.mid\"):\n",
        "        \"\"\"Converts a melody into a MIDI file\n",
        "\n",
        "        :param melody (list of str):\n",
        "        :param min_duration (float): Duration of each time step in quarter length\n",
        "        :param file_name (str): Name of midi file\n",
        "        :return:\n",
        "        \"\"\"\n",
        "\n",
        "        # create a music21 stream\n",
        "        stream = m21.stream.Stream()\n",
        "\n",
        "        start_symbol = None\n",
        "        step_counter = 1\n",
        "\n",
        "        # parse all the symbols in the melody and create note/rest objects\n",
        "        for i, symbol in enumerate(melody):\n",
        "\n",
        "            # handle case in which we have a note/rest\n",
        "            if symbol != \"_\" or i + 1 == len(melody):\n",
        "\n",
        "                # ensure we're dealing with note/rest beyond the first one\n",
        "                if start_symbol is not None:\n",
        "\n",
        "                    quarter_length_duration = step_duration * step_counter # 0.25 * 4 = 1\n",
        "\n",
        "                    # handle rest\n",
        "                    if start_symbol == \"r\":\n",
        "                        m21_event = m21.note.Rest(quarterLength=quarter_length_duration)\n",
        "\n",
        "                    # handle note\n",
        "                    else:\n",
        "                        m21_event = m21.note.Note(int(start_symbol), quarterLength=quarter_length_duration)\n",
        "\n",
        "                    stream.append(m21_event)\n",
        "\n",
        "                    # reset the step counter\n",
        "                    step_counter = 1\n",
        "\n",
        "                start_symbol = symbol\n",
        "\n",
        "            # handle case in which we have a prolongation sign \"_\"\n",
        "            else:\n",
        "                step_counter += 1\n",
        "\n",
        "        # write the m21 stream to a midi file\n",
        "        stream.write(format, file_name)\n",
        "\n"
      ]
    },
    {
      "cell_type": "code",
      "source": [
        "def main(length):\n",
        "  preprocess(KERN_DATASET_PATH)\n",
        "  songs = create_single_file_dataset(SAVE_DIR,SINGLE_FILE_DATASET,SEQUENCE_LENGTH)\n",
        "\n",
        "  mg = MelodyGenerator()\n",
        "  seed = songs[:15]\n",
        "  melody = mg.generate_melody(seed, length, SEQUENCE_LENGTH, 0.3)\n",
        "  mg.save_melody(melody)\n"
      ],
      "metadata": {
        "id": "QiiAFEyHM5M5"
      },
      "execution_count": 15,
      "outputs": []
    },
    {
      "cell_type": "code",
      "source": [
        "#provide length as parameter to main\n",
        "main(500)"
      ],
      "metadata": {
        "colab": {
          "base_uri": "https://localhost:8080/"
        },
        "id": "MS757AViSWSv",
        "outputId": "49375136-e918-4314-98af-5598e56df86f"
      },
      "execution_count": 17,
      "outputs": [
        {
          "output_type": "stream",
          "name": "stdout",
          "text": [
            "Loading Songs...\n",
            "loaded0 songs.\n",
            "1/1 [==============================] - 1s 545ms/step\n",
            "1/1 [==============================] - 0s 35ms/step\n",
            "1/1 [==============================] - 0s 30ms/step\n",
            "1/1 [==============================] - 0s 32ms/step\n",
            "1/1 [==============================] - 0s 29ms/step\n",
            "1/1 [==============================] - 0s 30ms/step\n",
            "1/1 [==============================] - 0s 31ms/step\n",
            "1/1 [==============================] - 0s 49ms/step\n",
            "1/1 [==============================] - 0s 73ms/step\n",
            "1/1 [==============================] - 0s 31ms/step\n",
            "1/1 [==============================] - 0s 31ms/step\n",
            "1/1 [==============================] - 0s 31ms/step\n",
            "1/1 [==============================] - 0s 29ms/step\n",
            "1/1 [==============================] - 0s 30ms/step\n",
            "1/1 [==============================] - 0s 30ms/step\n",
            "1/1 [==============================] - 0s 144ms/step\n",
            "1/1 [==============================] - 0s 37ms/step\n",
            "1/1 [==============================] - 0s 32ms/step\n",
            "1/1 [==============================] - 0s 31ms/step\n",
            "1/1 [==============================] - 0s 29ms/step\n",
            "1/1 [==============================] - 0s 31ms/step\n",
            "1/1 [==============================] - 0s 32ms/step\n",
            "1/1 [==============================] - 0s 35ms/step\n",
            "1/1 [==============================] - 0s 36ms/step\n",
            "1/1 [==============================] - 0s 30ms/step\n",
            "1/1 [==============================] - 0s 33ms/step\n",
            "1/1 [==============================] - 0s 43ms/step\n",
            "1/1 [==============================] - 0s 30ms/step\n",
            "1/1 [==============================] - 0s 32ms/step\n",
            "1/1 [==============================] - 0s 32ms/step\n",
            "1/1 [==============================] - 0s 31ms/step\n",
            "1/1 [==============================] - 0s 32ms/step\n",
            "1/1 [==============================] - 0s 27ms/step\n",
            "1/1 [==============================] - 0s 32ms/step\n",
            "1/1 [==============================] - 0s 31ms/step\n",
            "1/1 [==============================] - 0s 35ms/step\n",
            "1/1 [==============================] - 0s 29ms/step\n",
            "1/1 [==============================] - 0s 28ms/step\n",
            "1/1 [==============================] - 0s 33ms/step\n",
            "1/1 [==============================] - 0s 29ms/step\n",
            "1/1 [==============================] - 0s 29ms/step\n",
            "1/1 [==============================] - 0s 31ms/step\n",
            "1/1 [==============================] - 0s 34ms/step\n",
            "1/1 [==============================] - 0s 35ms/step\n",
            "1/1 [==============================] - 0s 34ms/step\n",
            "1/1 [==============================] - 0s 30ms/step\n",
            "1/1 [==============================] - 0s 32ms/step\n",
            "1/1 [==============================] - 0s 31ms/step\n",
            "1/1 [==============================] - 0s 30ms/step\n",
            "1/1 [==============================] - 0s 30ms/step\n",
            "1/1 [==============================] - 0s 32ms/step\n",
            "1/1 [==============================] - 0s 35ms/step\n",
            "1/1 [==============================] - 0s 31ms/step\n",
            "1/1 [==============================] - 0s 33ms/step\n",
            "1/1 [==============================] - 0s 29ms/step\n",
            "1/1 [==============================] - 0s 32ms/step\n",
            "1/1 [==============================] - 0s 34ms/step\n",
            "1/1 [==============================] - 0s 31ms/step\n",
            "1/1 [==============================] - 0s 31ms/step\n",
            "1/1 [==============================] - 0s 32ms/step\n",
            "1/1 [==============================] - 0s 29ms/step\n",
            "1/1 [==============================] - 0s 33ms/step\n",
            "1/1 [==============================] - 0s 33ms/step\n",
            "1/1 [==============================] - 0s 30ms/step\n",
            "1/1 [==============================] - 0s 34ms/step\n",
            "1/1 [==============================] - 0s 33ms/step\n",
            "1/1 [==============================] - 0s 35ms/step\n",
            "1/1 [==============================] - 0s 31ms/step\n",
            "1/1 [==============================] - 0s 32ms/step\n",
            "1/1 [==============================] - 0s 42ms/step\n",
            "1/1 [==============================] - 0s 36ms/step\n",
            "1/1 [==============================] - 0s 33ms/step\n",
            "1/1 [==============================] - 0s 30ms/step\n",
            "1/1 [==============================] - 0s 32ms/step\n",
            "1/1 [==============================] - 0s 30ms/step\n",
            "1/1 [==============================] - 0s 34ms/step\n",
            "1/1 [==============================] - 0s 36ms/step\n",
            "1/1 [==============================] - 0s 31ms/step\n",
            "1/1 [==============================] - 0s 31ms/step\n",
            "1/1 [==============================] - 0s 34ms/step\n",
            "1/1 [==============================] - 0s 43ms/step\n",
            "1/1 [==============================] - 0s 32ms/step\n",
            "1/1 [==============================] - 0s 37ms/step\n",
            "1/1 [==============================] - 0s 49ms/step\n",
            "1/1 [==============================] - 0s 53ms/step\n",
            "1/1 [==============================] - 0s 49ms/step\n",
            "1/1 [==============================] - 0s 47ms/step\n",
            "1/1 [==============================] - 0s 47ms/step\n",
            "1/1 [==============================] - 0s 59ms/step\n",
            "1/1 [==============================] - 0s 60ms/step\n",
            "1/1 [==============================] - 0s 53ms/step\n",
            "1/1 [==============================] - 0s 54ms/step\n",
            "1/1 [==============================] - 0s 50ms/step\n",
            "1/1 [==============================] - 0s 49ms/step\n",
            "1/1 [==============================] - 0s 57ms/step\n",
            "1/1 [==============================] - 0s 57ms/step\n",
            "1/1 [==============================] - 0s 55ms/step\n",
            "1/1 [==============================] - 0s 46ms/step\n",
            "1/1 [==============================] - 0s 32ms/step\n",
            "1/1 [==============================] - 0s 33ms/step\n",
            "1/1 [==============================] - 0s 30ms/step\n",
            "1/1 [==============================] - 0s 30ms/step\n"
          ]
        },
        {
          "output_type": "stream",
          "name": "stderr",
          "text": [
            "<ipython-input-14-dce89ea4b853>:76: RuntimeWarning: divide by zero encountered in log\n",
            "  predictions = np.log(probabilites) / temperature\n"
          ]
        },
        {
          "output_type": "stream",
          "name": "stdout",
          "text": [
            "1/1 [==============================] - 0s 29ms/step\n",
            "1/1 [==============================] - 0s 30ms/step\n",
            "1/1 [==============================] - 0s 31ms/step\n",
            "1/1 [==============================] - 0s 31ms/step\n",
            "1/1 [==============================] - 0s 33ms/step\n",
            "1/1 [==============================] - 0s 31ms/step\n",
            "1/1 [==============================] - 0s 33ms/step\n",
            "1/1 [==============================] - 0s 28ms/step\n",
            "1/1 [==============================] - 0s 29ms/step\n"
          ]
        }
      ]
    },
    {
      "cell_type": "code",
      "source": [],
      "metadata": {
        "id": "NjQ9SVSxWuNh"
      },
      "execution_count": null,
      "outputs": []
    },
    {
      "cell_type": "code",
      "source": [],
      "metadata": {
        "id": "Hm-HMQLPes4S"
      },
      "execution_count": null,
      "outputs": []
    },
    {
      "cell_type": "code",
      "source": [],
      "metadata": {
        "id": "Ac-niiJLfDpP"
      },
      "execution_count": null,
      "outputs": []
    }
  ]
}